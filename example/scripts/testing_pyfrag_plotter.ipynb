{
 "cells": [
  {
   "cell_type": "markdown",
   "metadata": {},
   "source": [
    "## Example script | PyFrag Plotter\n",
    "This notebook acts as an example of how to use the \"pyfrag_plotter\" package to plot the results of a PyFrag calculation.\n",
    "\n",
    "### Prequirements:\n",
    "- Installation of the \"pyfrag_plotter\" package (e.g. `python -m pip install pyfrag_plotter`)\n",
    "\n",
    "### Requirements for running the script: \n",
    "- Directory containing the relevant PyFrag files, being the inputfile (.in) and the outputfile (pyfrag_*.txt)\n",
    "\n",
    "### Flow of the program:\n",
    "- Initialize the config file\n",
    "- Load the PyFrag output file and input file. This will create a dataframe that contains all the information from the PyFrag output file, and a dictionary that contains all the information from the PyFrag input file.\n",
    "- Process the dataframe by trimming data, removing dispersion key, removing outliers and more\n",
    "- Make a PyFragResults object that combines the specifications in the PyFrag input file with the unclear header keys (such as overlap_1) in processed dataframe\n",
    "\n",
    "From here, you can choose to plot or to interpolate. The plotting function will plot the results of the PyFrag calculation, and the interpolation function will interpolate at a specified point of on the chosen IRC coordinate. The interpolation function is not yet implemented."
   ]
  },
  {
   "cell_type": "markdown",
   "metadata": {},
   "source": [
    "## Start the program!\n",
    "\n",
    "First, Initialize the config file. In this file, you can specify plot settings, such as the font, font size, figure size, etc, but also which eda keys to plot, and until which energy value (dEint) to plot.\n",
    "\n",
    "If you have a specific config file you want to use, you can provide it as an argument to the initialize_pyfrag_plotter function. If you don't provide a config file, the default config file will be used that is part of the package."
   ]
  },
  {
   "cell_type": "code",
   "execution_count": null,
   "metadata": {},
   "outputs": [],
   "source": [
    "# Load the modules\n",
    "import os\n",
    "from pyfrag_plotter.config_handler import initialize_pyfrag_plotter\n",
    "from pyfrag_plotter.helper_funcs import get_pyfrag_files\n",
    "from pyfrag_plotter.input.read_inputfile import read_inputfile\n",
    "from pyfrag_plotter.input.read_resultsfile import read_data\n",
    "from pyfrag_plotter.processing_funcs import process_results_file\n",
    "from pyfrag_plotter.pyfrag_object import create_pyfrag_object\n",
    "from pyfrag_plotter.plot.plotter import Plotter"
   ]
  },
  {
   "cell_type": "markdown",
   "metadata": {},
   "source": [
    "Now it is time to load the PyFrag output file and input file. This will create a dataframe that contains all the information from the PyFrag output file, and a dictionary that contains all the information from the PyFrag input file."
   ]
  },
  {
   "cell_type": "code",
   "execution_count": null,
   "metadata": {},
   "outputs": [],
   "source": [
    "# First, initialize the config file\n",
    "initialize_pyfrag_plotter()\n",
    "\n",
    "# Next, specify the path to the pyfrag output directory and read in the input file and the output file\n",
    "base_results_path = \"/Users/siebeld/Library/CloudStorage/OneDrive-VrijeUniversiteitAmsterdam/PhD/Projects/Squaramides/pyfrag_results\"\n",
    "# base_results_path = r\"C:\\Users\\siebb\\VU_PhD\\PhD\\Projects\\Squaramides\\pyfrag_results\"\n",
    "\n",
    "plot_dir = \"/Users/siebeld/Library/CloudStorage/OneDrive-VrijeUniversiteitAmsterdam/PhD/Projects/Squaramides/Plots\"\n",
    "# plot_dir = r\"C:\\Users\\siebb\\VU_PhD\\PhD\\Projects\\Squaramides\\Plots\"\n",
    "\n",
    "# irc_coord = (\"bondlength_1\", \"r - r$_{eq}$ / Å\")\n",
    "# irc_coord = (\"bondlength_2\", \"r$_{cm}$ / Å\")\n",
    "# irc_coord = (\"bondlength_3\", \"$\\Delta$r$_{X \\cdot\\cdot\\cdot H}$ / Å\")\n",
    "irc_coord = (\"bondlength_4\", \"r$_{X \\cdot\\cdot\\cdot H}$ / Å\")   # type: ignore # noqa: W605 since it is a LaTeX string\n",
    "\n",
    "result_dirs = [\"ureas_di_O_Cs_all\"]\n",
    "pyfrag_dirs = [os.path.join(base_results_path, directory) for directory in result_dirs]\n",
    "\n",
    "# Get the pyfrag input file(s) and pyfrag output file(s)\n",
    "pyfrag_files = get_pyfrag_files(pyfrag_dirs)\n",
    "input_files, results_files = zip(*pyfrag_files)\n",
    "\n",
    "# Read the input file(s)\n",
    "input_contents = [read_inputfile(input_file) for input_file in input_files]\n",
    "\n",
    "# Read the output file(s)\n",
    "output_contents = [read_data(results_file) for results_file in results_files]\n"
   ]
  },
  {
   "cell_type": "markdown",
   "metadata": {},
   "source": [
    "Since the input file(s) and output file(s) are loaded, we can process them and make a PyFragResults object. This object combines the specifications in the PyFrag input file with the unclear header keys (such as overlap_1) in processed dataframe."
   ]
  },
  {
   "cell_type": "code",
   "execution_count": null,
   "metadata": {},
   "outputs": [
    {
     "name": "stdout",
     "output_type": "stream",
     "text": [
      "Bondlength(atom1=2, atom2=15, bondlength=0.0, data=array([1.96441, 2.01566, 2.06753, 2.11997, 2.17294, 2.22641, 2.28033,\n",
      "       2.33469, 2.38944, 2.44456, 2.50003]))\n"
     ]
    }
   ],
   "source": [
    "# Now, we can start processing the data. For example, we can trim the data up to the minimum energy value. Also, we can remove outliers or remove the dispersion keyword from the data.\n",
    "output_contents = [process_results_file(df=output_content, trim_key=irc_coord[0], trim_option=(2.0, 2.5)) for output_content in output_contents]\n",
    "\n",
    "objs = [create_pyfrag_object(output_content, input_content) for output_content, input_content in zip(output_contents, input_contents)]\n",
    "obj = objs[0]\n",
    "\n",
    "data = obj.bondlength[int(irc_coord[0].split(\"_\")[-1]) - 1]\n",
    "print(data)"
   ]
  },
  {
   "cell_type": "markdown",
   "metadata": {},
   "source": [
    "Now let's do some plotting! Make an instance of the MultiPlotter by providing the directory in which the data is stored and the name of the corresponding output folder. Also, provide the PyFragResultsObjects and the irc coordinate on which the data should be plotted. The Multiplotter is able to plot ASM, EDA and ASM extra strain curves. You can even provide the keys that should be plotted, such as \"EnergyTotal\" or \"Int\" (they should match the keys in the pyfrag_*.txt resultsfile)."
   ]
  },
  {
   "cell_type": "code",
   "execution_count": null,
   "metadata": {},
   "outputs": [],
   "source": [
    "# plot_dir = \"/Users/siebeld/Desktop\"\n",
    "# plot_inst = Plotter(\"plot_all_O_tri_ureas\", plot_dir, objs, (\"bondlength\",  \"r - r$_{eq}$ / Å\"))\n",
    "# plot_inst.plot_asm()  # [\"EnergyTotal\"]\n",
    "# plot_inst.plot_eda()\n",
    "# plot_inst.plot_extra_strain()"
   ]
  },
  {
   "cell_type": "markdown",
   "metadata": {},
   "source": [
    "You can also plot overlaps, populations and orbital energies in combinations you desire! Just pass the desired quantities as a list to the plot function. For example, if you want to plot the overlap and the populations, you can do it as follows:"
   ]
  },
  {
   "cell_type": "code",
   "execution_count": null,
   "metadata": {},
   "outputs": [],
   "source": []
  }
 ],
 "metadata": {
  "kernelspec": {
   "display_name": "script",
   "language": "python",
   "name": "python3"
  },
  "language_info": {
   "codemirror_mode": {
    "name": "ipython",
    "version": 3
   },
   "file_extension": ".py",
   "mimetype": "text/x-python",
   "name": "python",
   "nbconvert_exporter": "python",
   "pygments_lexer": "ipython3",
   "version": "3.11.4"
  },
  "orig_nbformat": 4
 },
 "nbformat": 4,
 "nbformat_minor": 2
}
